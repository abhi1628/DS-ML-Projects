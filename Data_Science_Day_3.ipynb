{
  "nbformat": 4,
  "nbformat_minor": 0,
  "metadata": {
    "colab": {
      "provenance": [],
      "authorship_tag": "ABX9TyPADeq72sYyRYLTUQnpX8wL",
      "include_colab_link": true
    },
    "kernelspec": {
      "name": "python3",
      "display_name": "Python 3"
    },
    "language_info": {
      "name": "python"
    }
  },
  "cells": [
    {
      "cell_type": "markdown",
      "metadata": {
        "id": "view-in-github",
        "colab_type": "text"
      },
      "source": [
        "<a href=\"https://colab.research.google.com/github/abhi1628/DS-ML-Projects/blob/main/Data_Science_Day_3.ipynb\" target=\"_parent\"><img src=\"https://colab.research.google.com/assets/colab-badge.svg\" alt=\"Open In Colab\"/></a>"
      ]
    },
    {
      "cell_type": "markdown",
      "source": [
        "## **API (Application Programming Interface)**\n",
        "An API (Application Programming Interface) is like a waiter in a restaurant:\n",
        "\n",
        "**You (Customer)** = Your app/program (e.g., your Python script).\n",
        "\n",
        "**Kitchen (Server)** = A service that has data/features (e.g., OpenWeatherMap’s weather data).\n",
        "\n",
        "**Waiter (API)** = Takes your request to the kitchen and brings back the response."
      ],
      "metadata": {
        "id": "I3KXuwYCvm-_"
      }
    },
    {
      "cell_type": "code",
      "execution_count": null,
      "metadata": {
        "colab": {
          "base_uri": "https://localhost:8080/"
        },
        "id": "lEQ82wu0qHQU",
        "outputId": "baddce21-ce74-4be6-eab5-f9d95ab34d71"
      },
      "outputs": [
        {
          "output_type": "stream",
          "name": "stdout",
          "text": [
            "        City  Latitude  Longitude  WindSpeed (m/s)  WindDirection (deg)\n",
            "0     Mumbai   19.0760    72.8777             2.06                  290\n",
            "1      Delhi   28.7041    77.1025             1.54                  180\n",
            "2    Chennai   13.0827    80.2707             2.57                  250\n",
            "3  Bangalore   12.9716    77.5946             2.06                  230\n",
            "4  Hyderabad   17.3850    78.4867             3.60                  200\n",
            "5    Kolkata   22.5726    88.3639             4.12                  230\n",
            "6       Pune   18.5204    73.8567             2.77                    2\n",
            "7     Jaipur   26.9124    75.7873             2.06                  280\n",
            "8  Ahmedabad   23.0225    72.5714             2.06                  330\n",
            "9    Lucknow   26.8467    80.9462             2.57                  250\n"
          ]
        }
      ],
      "source": [
        "import requests\n",
        "import pandas as pd\n",
        "\n",
        "api_key = \"b6b342021d6f0e457efac41bb1db8d07\"  # Your valid key\n",
        "cities = {\n",
        "    \"Mumbai\": (19.0760, 72.8777),\n",
        "    \"Delhi\": (28.7041, 77.1025),\n",
        "    \"Chennai\": (13.0827, 80.2707),\n",
        "    \"Bangalore\": (12.9716, 77.5946),\n",
        "    \"Hyderabad\": (17.3850, 78.4867),\n",
        "    \"Kolkata\": (22.5726, 88.3639),\n",
        "    \"Pune\": (18.5204, 73.8567),\n",
        "    \"Jaipur\": (26.9124, 75.7873),\n",
        "    \"Ahmedabad\": (23.0225, 72.5714),\n",
        "    \"Lucknow\": (26.8467, 80.9462),\n",
        "}\n",
        "\n",
        "wind_data = []\n",
        "for city, (lat, lon) in cities.items():\n",
        "    try:\n",
        "        url = f\"https://api.openweathermap.org/data/2.5/weather?lat={lat}&lon={lon}&appid={api_key}&units=metric\"\n",
        "        response = requests.get(url).json()\n",
        "\n",
        "        if \"wind\" in response:\n",
        "            wind_speed = response[\"wind\"][\"speed\"]\n",
        "            wind_data.append({\n",
        "                \"City\": city,\n",
        "                \"Latitude\": lat,\n",
        "                \"Longitude\": lon,\n",
        "                \"WindSpeed (m/s)\": wind_speed,\n",
        "                \"WindDirection (deg)\": response[\"wind\"].get(\"deg\", \"N/A\"),\n",
        "            })\n",
        "        else:\n",
        "            print(f\"No wind data for {city}. Response: {response}\")\n",
        "    except Exception as e:\n",
        "        print(f\"Error fetching data for {city}: {e}\")\n",
        "\n",
        "if wind_data:\n",
        "    wind_df = pd.DataFrame(wind_data)\n",
        "    print(wind_df)\n",
        "else:\n",
        "    print(\"No data fetched. Check API key/network.\")"
      ]
    },
    {
      "cell_type": "code",
      "source": [
        "from sklearn.ensemble import RandomForestRegressor\n",
        "from sklearn.model_selection import train_test_split\n",
        "from sklearn.metrics import mean_absolute_error, r2_score\n",
        "\n",
        "# Features (X) and Target (y)\n",
        "X = wind_df[[\"Latitude\", \"Longitude\"]]\n",
        "y = wind_df[\"WindSpeed (m/s)\"]\n",
        "\n",
        "# Split data into training and testing sets\n",
        "X_train, X_test, y_train, y_test = train_test_split(X, y, test_size=0.3,\n",
        "                                                    random_state=42)\n",
        "\n",
        "# Train the model\n",
        "model = RandomForestRegressor(random_state=42)\n",
        "model.fit(X_train, y_train)\n",
        "\n",
        "# Evaluate the model\n",
        "y_pred = model.predict(X_test)\n",
        "print(f\"Mean Absolute Error: {mean_absolute_error(y_test, y_pred):.2f} m/s\")\n",
        "print(f\"R² Score: {r2_score(y_test, y_pred):.2f}\")"
      ],
      "metadata": {
        "colab": {
          "base_uri": "https://localhost:8080/"
        },
        "id": "Hi94-LoPr8Zh",
        "outputId": "d17ab2ce-76b2-4e12-f601-738e6b3cc2bb"
      },
      "execution_count": null,
      "outputs": [
        {
          "output_type": "stream",
          "name": "stdout",
          "text": [
            "Mean Absolute Error: 0.74 m/s\n",
            "R² Score: 0.32\n"
          ]
        }
      ]
    },
    {
      "cell_type": "code",
      "source": [
        "# Predict for new location\n",
        "new_location = [[23.1686, 79.9339]]  # Jabalpur\n",
        "print(f\"Predicted wind speed: {model.predict(new_location)[0]:.2f} m/s\")"
      ],
      "metadata": {
        "colab": {
          "base_uri": "https://localhost:8080/"
        },
        "id": "XkbAmrqiuBhy",
        "outputId": "19222fc7-24f1-4670-e287-8769bd7b4fd0"
      },
      "execution_count": null,
      "outputs": [
        {
          "output_type": "stream",
          "name": "stdout",
          "text": [
            "Predicted wind speed: 2.67 m/s\n"
          ]
        },
        {
          "output_type": "stream",
          "name": "stderr",
          "text": [
            "/usr/local/lib/python3.11/dist-packages/sklearn/utils/validation.py:2739: UserWarning: X does not have valid feature names, but RandomForestRegressor was fitted with feature names\n",
            "  warnings.warn(\n"
          ]
        }
      ]
    },
    {
      "cell_type": "code",
      "source": [
        "# https://api.openweathermap.org/data/2.5/weather?lat=19.0760&lon=72.8777&appid=b6b342021d6f0e457efac41bb1db8d07"
      ],
      "metadata": {
        "id": "CVz4FTuBu0AY"
      },
      "execution_count": null,
      "outputs": []
    },
    {
      "cell_type": "code",
      "source": [],
      "metadata": {
        "id": "jeW7wUWmwSoA"
      },
      "execution_count": null,
      "outputs": []
    }
  ]
}