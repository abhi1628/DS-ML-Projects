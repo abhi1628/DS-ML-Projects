{
  "nbformat": 4,
  "nbformat_minor": 0,
  "metadata": {
    "colab": {
      "provenance": [],
      "authorship_tag": "ABX9TyMcWJfnHplTPbQred70sp6c",
      "include_colab_link": true
    },
    "kernelspec": {
      "name": "python3",
      "display_name": "Python 3"
    },
    "language_info": {
      "name": "python"
    }
  },
  "cells": [
    {
      "cell_type": "markdown",
      "metadata": {
        "id": "view-in-github",
        "colab_type": "text"
      },
      "source": [
        "<a href=\"https://colab.research.google.com/github/abhi1628/DS-ML-Projects/blob/main/Data_Science_Day_4.ipynb\" target=\"_parent\"><img src=\"https://colab.research.google.com/assets/colab-badge.svg\" alt=\"Open In Colab\"/></a>"
      ]
    },
    {
      "cell_type": "markdown",
      "source": [
        "## **1. What is NLP (Natural Language Processing)?**\n",
        "## Think of NLP as the technology that helps computers understand and work with human language (like English, Hindi, etc.). It’s used in things like chatbots, Google Translate, voice assistants (Alexa, Siri), and spam filters.\n",
        "\n",
        "## **2. What is CountVectorizer?**\n",
        "## Imagine you have a few sentences and you want a computer to understand them. But computers don’t understand words—they understand numbers. CountVectorizer helps by converting words into numbers based on how often they appear.\n",
        "\n",
        "## **3. What is Naïve Bayes?**\n",
        "## Naïve Bayes is a simple but powerful algorithm used in NLP to classify things like spam emails, positive/negative reviews, or even emotions in text. It works using probability. It calculates how likely a word belongs to a category (e.g., spam or not spam).\n",
        "\n",
        "**Example:**\n",
        "\n",
        "If an email has words like **\"free money\"** or **\"win now,\"** Naïve Bayes checks the probability of these words appearing in spam emails.\n",
        "\n",
        "If the probability is high, it marks the email as spam.\n",
        "\n",
        "Think of it like this:\n",
        "\n",
        "- If a dog barks, it's probably a dog.\n",
        "\n",
        "- If a cat meows, it's probably a cat.\n",
        "\n",
        "Naïve Bayes makes similar probability-based decisions!"
      ],
      "metadata": {
        "id": "uTzh8zvR56pR"
      }
    },
    {
      "cell_type": "code",
      "execution_count": 3,
      "metadata": {
        "colab": {
          "base_uri": "https://localhost:8080/"
        },
        "id": "ENxixvqj0v_v",
        "outputId": "131f446c-2b57-474d-fcb7-6d81b486ddf9"
      },
      "outputs": [
        {
          "output_type": "stream",
          "name": "stdout",
          "text": [
            "PizzaBot: Hello! Type 'exit' to stop chatting.\n",
            "You: hi\n",
            "PizzaBot: Hey there! Ready to order your favorite pizza?\n",
            "You: hello\n",
            "PizzaBot: Hey there! Ready to order your favorite pizza?\n",
            "You: hey\n",
            "PizzaBot: Hi! Welcome to Pizza Delight. How can I help you today?\n",
            "You: how are you\n",
            "PizzaBot: Feeling saucy! What pizza can I get for you?\n",
            "You: who are you\n",
            "PizzaBot: I'm Pizza Delight's virtual assistant.\n",
            "You: WHO ARE YOU\n",
            "PizzaBot: I'm Pizza Delight's virtual assistant.\n",
            "You: WHO ARE YOU?\n",
            "PizzaBot: You can call me PizzaBot!\n",
            "You: how are you buddy\n",
            "PizzaBot: I'm doing cheesy good! How about you?\n",
            "You: exit\n",
            "PizzaBot: Goodbye! Enjoy your pizza!\n"
          ]
        }
      ],
      "source": [
        "from sklearn.feature_extraction.text import CountVectorizer\n",
        "from sklearn.naive_bayes import MultinomialNB\n",
        "import random\n",
        "\n",
        "# Step 1: Create a dataset for a Pizza Company Chatbot\n",
        "dataset = {\n",
        "    \"hello|hi|hey\": [\"Hi! Welcome to Pizza Delight. How can I help you today?\",\n",
        "                     \"Hello! Craving some pizza?\",\n",
        "                     \"Hey there! Ready to order your favorite pizza?\"],\n",
        "    \"how are you|how's it going|how do you do\": [\"I'm great! Always happy to talk about pizza!\",\n",
        "                                                 \"I'm doing cheesy good! How about you?\",\n",
        "                                                 \"Feeling saucy! What pizza can I get for you?\"],\n",
        "    \"what is your name|who are you|what should I call you\": [\"I'm PizzaBot, your pizza ordering assistant!\",\n",
        "                                                             \"You can call me PizzaBot!\",\n",
        "                                                             \"I'm Pizza Delight's virtual assistant.\"],\n",
        "    \"bye|goodbye|see you later\": [\"Goodbye! Hope to serve you a delicious pizza soon!\",\n",
        "                                  \"See you next time! Enjoy your meal!\",\n",
        "                                  \"Bye! Don't forget to try our new flavors next time!\"],\n",
        "    \"what pizzas do you have|menu|available pizzas\": [\"We have Margherita, Pepperoni, BBQ Chicken, Veggie Supreme, and more! Check our menu for details.\",\n",
        "                                                      \"Our top pizzas include Cheese Burst, Paneer Tikka, and Pepperoni. What would you like?\",\n",
        "                                                      \"We offer a variety of pizzas! Visit our website for the full menu.\"],\n",
        "    \"how to order a pizza|how can I buy a pizza|how do I place an order\": [\"You can order online, call us, or visit our nearest outlet!\",\n",
        "                                                                           \"Go to our website, select your pizza, and place the order easily!\",\n",
        "                                                                           \"Just tell me what you'd like, and I can guide you through the ordering process!\"],\n",
        "    \"what are your store timings|what time do you open|working hours\": [\"We are open from 10 AM to 11 PM every day!\",\n",
        "                                                                        \"Our store operates from 10 AM to 11 PM. Late-night cravings? We’ve got you!\",\n",
        "                                                                        \"We serve delicious pizzas from 10 AM to 11 PM. Drop by anytime!\"],\n",
        "    \"do you offer home delivery|can you deliver pizza|is delivery available\": [\"Yes, we offer home delivery! Just order online or call us.\",\n",
        "                                                                               \"Absolutely! We deliver fresh pizzas right to your doorstep.\",\n",
        "                                                                               \"Yes, we deliver! Place your order on our app or website!\"],\n",
        "    \"do you have vegetarian options|veg pizzas|non-meat pizzas\": [\"Yes! We have Margherita, Veggie Supreme, Farmhouse, and more.\",\n",
        "                                                                  \"Of course! Our menu has plenty of delicious vegetarian pizzas.\",\n",
        "                                                                  \"Yes, we offer a variety of vegetarian pizzas! Check out our menu.\"],\n",
        "    \"what are your offers today|any discounts|deals available\": [\"Today's offer: Buy 1 Get 1 Free on all medium pizzas!\",\n",
        "                                                                 \"We have 20% off on orders above $15!\",\n",
        "                                                                 \"Check our website for the latest discounts and offers!\"],\n",
        "    \"how long does delivery take|when will my order arrive|delivery time\": [\"Our delivery usually takes 30-45 minutes, depending on location.\",\n",
        "                                                                            \"We deliver within 30 minutes for nearby areas!\",\n",
        "                                                                            \"Your pizza will arrive hot and fresh within 30-45 minutes!\"],\n",
        "    \"can I customize my pizza|can I choose toppings|make my own pizza\": [\"Yes! You can add extra cheese, toppings, and even choose your crust!\",\n",
        "                                                                         \"Absolutely! Choose your base, sauce, and toppings for a custom pizza.\",\n",
        "                                                                         \"Yes! We let you create your dream pizza with our customization options!\"],\n",
        "    \"do you have gluten-free pizza|gluten-free options|no gluten pizzas\": [\"Yes! We offer gluten-free crust options on select pizzas.\",\n",
        "                                                                           \"Absolutely! Ask for our gluten-free pizza options when you order.\",\n",
        "                                                                           \"Yes, we provide gluten-free pizzas! Check our special menu.\"],\n",
        "    \"can I pay online|payment methods|do you accept cards\": [\"Yes, we accept online payments via credit card, UPI, and digital wallets.\",\n",
        "                                                             \"Of course! You can pay online securely when placing your order.\",\n",
        "                                                             \"Yes! We accept online payments through multiple methods.\"],\n",
        "    \"how to contact customer support|help center|customer service\": [\"You can call our helpline at 123-456-7890 or chat with us online.\",\n",
        "                                                                     \"Our support team is available via phone, chat, and email!\",\n",
        "                                                                     \"Reach us through our website or call 123-456-7890 for support.\"]\n",
        "}\n",
        "\n",
        "# Step 2: Convert text to numbers\n",
        "vectorizer = CountVectorizer()\n",
        "X = vectorizer.fit_transform(dataset.keys())  # Convert questions to numbers\n",
        "\n",
        "# Step 3: Train the model\n",
        "model = MultinomialNB()\n",
        "model.fit(X, list(range(len(dataset))))  # Train using question indices\n",
        "\n",
        "# Step 4: Simple chatbot function\n",
        "def chatbot():\n",
        "    print(\"PizzaBot: Hello! Type 'exit' to stop chatting.\")\n",
        "    while True:\n",
        "        user_input = input(\"You: \").lower()\n",
        "        if user_input == \"exit\":\n",
        "            print(\"PizzaBot: Goodbye! Enjoy your pizza!\")\n",
        "            break\n",
        "\n",
        "        user_vector = vectorizer.transform([user_input])  # Convert input to numbers\n",
        "        index = model.predict(user_vector)[0]  # Get index of the answer\n",
        "        question = list(dataset.keys())[index]  # Get matching question\n",
        "        print(\"PizzaBot:\", random.choice(dataset[question]))  # Pick a random answer\n",
        "\n",
        "# Run the chatbot\n",
        "chatbot()\n"
      ]
    },
    {
      "cell_type": "code",
      "source": [],
      "metadata": {
        "id": "Ic5f-jQ-LZvA"
      },
      "execution_count": null,
      "outputs": []
    }
  ]
}